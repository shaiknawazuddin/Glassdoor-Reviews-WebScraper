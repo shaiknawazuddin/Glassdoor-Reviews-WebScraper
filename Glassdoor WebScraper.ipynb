{
 "cells": [
  {
   "cell_type": "markdown",
   "metadata": {},
   "source": [
    "# Glassdoor Reviews WebScraper"
   ]
  },
  {
   "cell_type": "markdown",
   "metadata": {},
   "source": [
    "### Created by Shaik Nawazuddin"
   ]
  },
  {
   "cell_type": "markdown",
   "metadata": {},
   "source": [
    "Importing all the necessary Libraries"
   ]
  },
  {
   "cell_type": "code",
   "execution_count": null,
   "metadata": {},
   "outputs": [],
   "source": [
    "import requests\n",
    "from bs4 import BeautifulSoup\n",
    "import time\n",
    "import pandas as pd"
   ]
  },
  {
   "cell_type": "markdown",
   "metadata": {},
   "source": [
    "Specifying User-Agent\n",
    "\n",
    "Just google 'My user agent' and paste it as the value for key 'User-Agent'"
   ]
  },
  {
   "cell_type": "code",
   "execution_count": null,
   "metadata": {},
   "outputs": [],
   "source": [
    "headers = {'User-Agent' : ''}"
   ]
  },
  {
   "cell_type": "markdown",
   "metadata": {},
   "source": [
    "Creating a temporary list to append data of each page into it"
   ]
  },
  {
   "cell_type": "code",
   "execution_count": null,
   "metadata": {},
   "outputs": [],
   "source": [
    "temp = list()"
   ]
  },
  {
   "cell_type": "markdown",
   "metadata": {},
   "source": [
    "Specify the last page number"
   ]
  },
  {
   "cell_type": "code",
   "execution_count": 1,
   "metadata": {},
   "outputs": [
    {
     "name": "stdout",
     "output_type": "stream",
     "text": [
      "Please enter the last page number\n"
     ]
    }
   ],
   "source": [
    "start_page = 1\n",
    "print('Please enter the last page number')\n",
    "end_page = (int(input())) + 1"
   ]
  },
  {
   "cell_type": "markdown",
   "metadata": {},
   "source": [
    "Example:\n",
    "\n",
    "https://www.glassdoor.co.in/Reviews/Glassdoor-Reviews-E100431.htm\n",
    "\n",
    "If the link looks like the above, kindly take only the 'https://www.glassdoor.co.in/Reviews/Glassdoor-Reviews-E100431' part as the first_half and I'd recommend not to change the second_half unless there is a specific filtering applied."
   ]
  },
  {
   "cell_type": "code",
   "execution_count": 2,
   "metadata": {},
   "outputs": [
    {
     "name": "stdout",
     "output_type": "stream",
     "text": [
      "Page number is:  1\n"
     ]
    },
    {
     "ename": "NameError",
     "evalue": "name 'requests' is not defined",
     "output_type": "error",
     "traceback": [
      "\u001b[1;31m---------------------------------------------------------------------------\u001b[0m",
      "\u001b[1;31mNameError\u001b[0m                                 Traceback (most recent call last)",
      "\u001b[1;32m<ipython-input-2-53ee87e6627a>\u001b[0m in \u001b[0;36m<module>\u001b[1;34m\u001b[0m\n\u001b[0;32m      7\u001b[0m         \u001b[0msecond_half\u001b[0m \u001b[1;33m=\u001b[0m \u001b[1;34m'.htm?filter.iso3Language=eng'\u001b[0m\u001b[1;33m\u001b[0m\u001b[1;33m\u001b[0m\u001b[0m\n\u001b[1;32m----> 8\u001b[1;33m         \u001b[0mhtml\u001b[0m \u001b[1;33m=\u001b[0m \u001b[0mrequests\u001b[0m\u001b[1;33m.\u001b[0m\u001b[0mget\u001b[0m\u001b[1;33m(\u001b[0m\u001b[0mfirst_half\u001b[0m \u001b[1;33m+\u001b[0m \u001b[1;34m'_P'\u001b[0m \u001b[1;33m+\u001b[0m \u001b[0mstr\u001b[0m\u001b[1;33m(\u001b[0m\u001b[0mpage\u001b[0m\u001b[1;33m)\u001b[0m \u001b[1;33m+\u001b[0m \u001b[0msecond_half\u001b[0m\u001b[1;33m,\u001b[0m \u001b[0mverify\u001b[0m \u001b[1;33m=\u001b[0m \u001b[1;32mTrue\u001b[0m\u001b[1;33m,\u001b[0m \u001b[0mheaders\u001b[0m \u001b[1;33m=\u001b[0m \u001b[0mheaders\u001b[0m\u001b[1;33m)\u001b[0m\u001b[1;33m\u001b[0m\u001b[1;33m\u001b[0m\u001b[0m\n\u001b[0m\u001b[0;32m      9\u001b[0m         \u001b[0mhtml\u001b[0m\u001b[1;33m.\u001b[0m\u001b[0mraise_for_status\u001b[0m\u001b[1;33m(\u001b[0m\u001b[1;33m)\u001b[0m\u001b[1;33m\u001b[0m\u001b[1;33m\u001b[0m\u001b[0m\n",
      "\u001b[1;31mNameError\u001b[0m: name 'requests' is not defined",
      "\nDuring handling of the above exception, another exception occurred:\n",
      "\u001b[1;31mNameError\u001b[0m                                 Traceback (most recent call last)",
      "\u001b[1;32m<ipython-input-2-53ee87e6627a>\u001b[0m in \u001b[0;36m<module>\u001b[1;34m\u001b[0m\n\u001b[0;32m      8\u001b[0m         \u001b[0mhtml\u001b[0m \u001b[1;33m=\u001b[0m \u001b[0mrequests\u001b[0m\u001b[1;33m.\u001b[0m\u001b[0mget\u001b[0m\u001b[1;33m(\u001b[0m\u001b[0mfirst_half\u001b[0m \u001b[1;33m+\u001b[0m \u001b[1;34m'_P'\u001b[0m \u001b[1;33m+\u001b[0m \u001b[0mstr\u001b[0m\u001b[1;33m(\u001b[0m\u001b[0mpage\u001b[0m\u001b[1;33m)\u001b[0m \u001b[1;33m+\u001b[0m \u001b[0msecond_half\u001b[0m\u001b[1;33m,\u001b[0m \u001b[0mverify\u001b[0m \u001b[1;33m=\u001b[0m \u001b[1;32mTrue\u001b[0m\u001b[1;33m,\u001b[0m \u001b[0mheaders\u001b[0m \u001b[1;33m=\u001b[0m \u001b[0mheaders\u001b[0m\u001b[1;33m)\u001b[0m\u001b[1;33m\u001b[0m\u001b[1;33m\u001b[0m\u001b[0m\n\u001b[0;32m      9\u001b[0m         \u001b[0mhtml\u001b[0m\u001b[1;33m.\u001b[0m\u001b[0mraise_for_status\u001b[0m\u001b[1;33m(\u001b[0m\u001b[1;33m)\u001b[0m\u001b[1;33m\u001b[0m\u001b[1;33m\u001b[0m\u001b[0m\n\u001b[1;32m---> 10\u001b[1;33m     \u001b[1;32mexcept\u001b[0m \u001b[0mrequests\u001b[0m\u001b[1;33m.\u001b[0m\u001b[0mexceptions\u001b[0m\u001b[1;33m.\u001b[0m\u001b[0mHTTPError\u001b[0m \u001b[1;32mas\u001b[0m \u001b[0merrh\u001b[0m\u001b[1;33m:\u001b[0m\u001b[1;33m\u001b[0m\u001b[1;33m\u001b[0m\u001b[0m\n\u001b[0m\u001b[0;32m     11\u001b[0m         \u001b[0mprint\u001b[0m\u001b[1;33m(\u001b[0m\u001b[1;34m'HTTP Error: '\u001b[0m\u001b[1;33m,\u001b[0m \u001b[0merrh\u001b[0m\u001b[1;33m)\u001b[0m\u001b[1;33m\u001b[0m\u001b[1;33m\u001b[0m\u001b[0m\n\u001b[0;32m     12\u001b[0m     \u001b[1;32mexcept\u001b[0m \u001b[0mrequests\u001b[0m\u001b[1;33m.\u001b[0m\u001b[0mexceptions\u001b[0m\u001b[1;33m.\u001b[0m\u001b[0mConnectionError\u001b[0m \u001b[1;32mas\u001b[0m \u001b[0merrc\u001b[0m\u001b[1;33m:\u001b[0m\u001b[1;33m\u001b[0m\u001b[1;33m\u001b[0m\u001b[0m\n",
      "\u001b[1;31mNameError\u001b[0m: name 'requests' is not defined"
     ]
    }
   ],
   "source": [
    "for page in range(start_page, end_page):\n",
    "    print('Page number is: ', page)\n",
    "\n",
    "    try:\n",
    "#Kindly specify the correct URL link in the right format without including the page number as shown in the example        \n",
    "        first_half = 'https://www.glassdoor.co.in/Reviews/Glassdoor-Reviews-E100431'\n",
    "        second_half = '.htm?filter.iso3Language=eng'     \n",
    "        html = requests.get(first_half + '_P' + str(page) + second_half, verify = True, headers = headers)\n",
    "        html.raise_for_status()\n",
    "    except requests.exceptions.HTTPError as errh:\n",
    "        print('HTTP Error: ', errh)\n",
    "    except requests.exceptions.ConnectionError as errc:\n",
    "        print('Error Connecting: ', errc)\n",
    "        time.sleep(30)\n",
    "    except requests.exceptions.Timeout as errt:\n",
    "        print('Timeout Error: ', errt)\n",
    "        time.sleep(30)\n",
    "    except requests.exceptions.RequestException as err:\n",
    "        print('Something else: ', err)\n",
    "   \n",
    "    bsobj = BeautifulSoup(html.text, 'html.parser')\n",
    "\n",
    "    reviews = bsobj.find_all(class_='gdReview')\n",
    "   \n",
    "    for review in reviews:\n",
    "        try:\n",
    "            desc = review.find(class_='reviewLink').get_text()\n",
    "        except:\n",
    "            desc = None\n",
    "        try:\n",
    "            date_job_title = review.find(class_='authorJobTitle').get_text()\n",
    "            date_job_title = date_job_title.split('-')\n",
    "            review_date = date_job_title[0]\n",
    "            reviewer_job_title = date_job_title[1]\n",
    "        except:\n",
    "            review_date = None\n",
    "            reviewer_job_title = None\n",
    "        try:\n",
    "            location = review.find(class_='authorLocation').get_text()\n",
    "        except:\n",
    "            location = None\n",
    "        try:\n",
    "            rate = review.find(class_='ratingNumber').get_text()\n",
    "        except:\n",
    "            rate = None\n",
    "        try:\n",
    "            state = review.find(class_='pt-xsm').get_text()\n",
    "        except:\n",
    "            state_exp = None\n",
    "        try:\n",
    "            pros =review.select('span[data-test=\"pros\"]')[0].text\n",
    "            pros = pros.replace('\\t', '')\n",
    "            pros = pros.replace('\\r', ' ')\n",
    "            pros = pros.replace('\\n', ' ')\n",
    "        except:\n",
    "            pros = None\n",
    "        try:\n",
    "            cons = review.select('span[data-test=\"cons\"]')[0].text\n",
    "            cons = cons.replace('\\t', '')\n",
    "            cons = cons.replace('\\r', ' ')\n",
    "            cons = cons.replace('\\n', ' ')\n",
    "        except:\n",
    "            cons = None\n",
    "       \n",
    "        data = {\n",
    "                'Title': desc,\n",
    "                'Date': review_date,\n",
    "                'Job Title': reviewer_job_title,\n",
    "                'Location' : location,\n",
    "                'Rating': rate,\n",
    "                'State and Experience': state,\n",
    "                'Pros' : pros,\n",
    "                'Cons': cons\n",
    "            }\n",
    "        temp.append(data)"
   ]
  },
  {
   "cell_type": "markdown",
   "metadata": {},
   "source": [
    "Loading the temp data into a DataFrame"
   ]
  },
  {
   "cell_type": "code",
   "execution_count": null,
   "metadata": {},
   "outputs": [],
   "source": [
    "df_temp = pd.DataFrame(temp)\n",
    "try:\n",
    "    df_temp[['State of Reviewer', 'Experience']] = df_temp['State and Experience'].str.split(', ', expand = True)\n",
    "except:\n",
    "    df_temp['State of Reviewer'] = df_temp['State and Experience']\n",
    "    df_temp['Experience'] = ''\n",
    "df = df_temp[['Title', 'Date', 'Job Title', 'Location', 'Rating', 'State of Reviewer', 'Experience', 'Pros', 'Cons']]\n",
    "df"
   ]
  },
  {
   "cell_type": "markdown",
   "metadata": {},
   "source": [
    "Exporting the DataFrame to an excel file"
   ]
  },
  {
   "cell_type": "code",
   "execution_count": null,
   "metadata": {},
   "outputs": [],
   "source": [
    "df.to_excel('Glassdoor Reviews.xlsx', index = False)"
   ]
  }
 ],
 "metadata": {
  "kernelspec": {
   "display_name": "Python 3.8.3 ('base')",
   "language": "python",
   "name": "python3"
  },
  "language_info": {
   "codemirror_mode": {
    "name": "ipython",
    "version": 3
   },
   "file_extension": ".py",
   "mimetype": "text/x-python",
   "name": "python",
   "nbconvert_exporter": "python",
   "pygments_lexer": "ipython3",
   "version": "3.8.3"
  },
  "vscode": {
   "interpreter": {
    "hash": "9517128b87c530fff0f1fc1d20d666822942bb7ffce5aec71ef2920cf0b3bcca"
   }
  }
 },
 "nbformat": 4,
 "nbformat_minor": 4
}
